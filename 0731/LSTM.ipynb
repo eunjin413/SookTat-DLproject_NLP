{
 "cells": [
  {
   "cell_type": "code",
   "execution_count": 3,
   "id": "6e49619d",
   "metadata": {},
   "outputs": [
    {
     "name": "stderr",
     "output_type": "stream",
     "text": [
      "C:\\Users\\lg\\AppData\\Local\\Programs\\Python\\Python39\\lib\\site-packages\\scipy\\__init__.py:155: UserWarning: A NumPy version >=1.18.5 and <1.25.0 is required for this version of SciPy (detected version 1.25.1\n",
      "  warnings.warn(f\"A NumPy version >={np_minversion} and <{np_maxversion}\"\n"
     ]
    }
   ],
   "source": [
    "import tensorflow as tf\n",
    "from tensorflow.keras.preprocessing.sequence import pad_sequences\n",
    "from tensorflow.keras.callbacks import EarlyStopping, ModelCheckpoint\n",
    "from tensorflow.keras import layers\n",
    "import numpy as np\n",
    "import pandas as pd\n",
    "import matplotlib.pyplot as plt\n",
    "import os\n",
    "import json\n",
    "from tqdm import tqdm"
   ]
  },
  {
   "cell_type": "code",
   "execution_count": 43,
   "id": "20e0423c",
   "metadata": {},
   "outputs": [],
   "source": [
    "data = pd.read_csv(\"realdata.csv\")"
   ]
  },
  {
   "cell_type": "code",
   "execution_count": 44,
   "id": "37a32fb2",
   "metadata": {},
   "outputs": [
    {
     "data": {
      "text/html": [
       "<div>\n",
       "<style scoped>\n",
       "    .dataframe tbody tr th:only-of-type {\n",
       "        vertical-align: middle;\n",
       "    }\n",
       "\n",
       "    .dataframe tbody tr th {\n",
       "        vertical-align: top;\n",
       "    }\n",
       "\n",
       "    .dataframe thead th {\n",
       "        text-align: right;\n",
       "    }\n",
       "</style>\n",
       "<table border=\"1\" class=\"dataframe\">\n",
       "  <thead>\n",
       "    <tr style=\"text-align: right;\">\n",
       "      <th></th>\n",
       "      <th>Unnamed: 0</th>\n",
       "      <th>발화문</th>\n",
       "      <th>감정</th>\n",
       "    </tr>\n",
       "  </thead>\n",
       "  <tbody>\n",
       "    <tr>\n",
       "      <th>0</th>\n",
       "      <td>0</td>\n",
       "      <td>어, 청소 니가 대신 해 줘!</td>\n",
       "      <td>0</td>\n",
       "    </tr>\n",
       "    <tr>\n",
       "      <th>1</th>\n",
       "      <td>1</td>\n",
       "      <td>둘 다 청소 하기 싫어. 귀찮아.</td>\n",
       "      <td>0</td>\n",
       "    </tr>\n",
       "    <tr>\n",
       "      <th>2</th>\n",
       "      <td>2</td>\n",
       "      <td>둘 다 하기 싫어서 화내.</td>\n",
       "      <td>1</td>\n",
       "    </tr>\n",
       "    <tr>\n",
       "      <th>3</th>\n",
       "      <td>3</td>\n",
       "      <td>그럼 방세는 어떡해.</td>\n",
       "      <td>2</td>\n",
       "    </tr>\n",
       "    <tr>\n",
       "      <th>4</th>\n",
       "      <td>4</td>\n",
       "      <td>권태긴줄 알았는데 다른 사람이 생겼나보더라고.</td>\n",
       "      <td>2</td>\n",
       "    </tr>\n",
       "    <tr>\n",
       "      <th>...</th>\n",
       "      <td>...</td>\n",
       "      <td>...</td>\n",
       "      <td>...</td>\n",
       "    </tr>\n",
       "    <tr>\n",
       "      <th>42018</th>\n",
       "      <td>42018</td>\n",
       "      <td>나 엘리베이터에 갇혔어.</td>\n",
       "      <td>2</td>\n",
       "    </tr>\n",
       "    <tr>\n",
       "      <th>42019</th>\n",
       "      <td>42019</td>\n",
       "      <td>하지만 기분이 나쁜 걸 어떡해?</td>\n",
       "      <td>2</td>\n",
       "    </tr>\n",
       "    <tr>\n",
       "      <th>42020</th>\n",
       "      <td>42020</td>\n",
       "      <td>자취방 엘리베이턴데 정전인가봐.</td>\n",
       "      <td>2</td>\n",
       "    </tr>\n",
       "    <tr>\n",
       "      <th>42021</th>\n",
       "      <td>42021</td>\n",
       "      <td>나 드디어 프로젝트 끝났어!</td>\n",
       "      <td>2</td>\n",
       "    </tr>\n",
       "    <tr>\n",
       "      <th>42022</th>\n",
       "      <td>42022</td>\n",
       "      <td>걱정해줘서 고마워.</td>\n",
       "      <td>0</td>\n",
       "    </tr>\n",
       "  </tbody>\n",
       "</table>\n",
       "<p>42023 rows × 3 columns</p>\n",
       "</div>"
      ],
      "text/plain": [
       "       Unnamed: 0                        발화문  감정\n",
       "0               0           어, 청소 니가 대신 해 줘!   0\n",
       "1               1         둘 다 청소 하기 싫어. 귀찮아.   0\n",
       "2               2             둘 다 하기 싫어서 화내.   1\n",
       "3               3                그럼 방세는 어떡해.   2\n",
       "4               4  권태긴줄 알았는데 다른 사람이 생겼나보더라고.   2\n",
       "...           ...                        ...  ..\n",
       "42018       42018              나 엘리베이터에 갇혔어.   2\n",
       "42019       42019          하지만 기분이 나쁜 걸 어떡해?   2\n",
       "42020       42020          자취방 엘리베이턴데 정전인가봐.   2\n",
       "42021       42021            나 드디어 프로젝트 끝났어!   2\n",
       "42022       42022                 걱정해줘서 고마워.   0\n",
       "\n",
       "[42023 rows x 3 columns]"
      ]
     },
     "execution_count": 44,
     "metadata": {},
     "output_type": "execute_result"
    }
   ],
   "source": [
    "data"
   ]
  },
  {
   "cell_type": "code",
   "execution_count": 49,
   "id": "887d13d7",
   "metadata": {},
   "outputs": [],
   "source": [
    "train_data = data[:38000]"
   ]
  },
  {
   "cell_type": "code",
   "execution_count": 50,
   "id": "ff2ec7da",
   "metadata": {},
   "outputs": [],
   "source": [
    "test_data = data[38001:]"
   ]
  },
  {
   "cell_type": "code",
   "execution_count": 48,
   "id": "0c1c6ce4",
   "metadata": {},
   "outputs": [],
   "source": [
    "stopwords = ['의', '가', '이', '은', '들', '는', '좀', '잘', '걍', '과', '도', '를', '으로', '자', '에', '와', '한', '하다']"
   ]
  },
  {
   "cell_type": "code",
   "execution_count": 52,
   "id": "5cc8be45",
   "metadata": {},
   "outputs": [],
   "source": [
    "import konlpy\n",
    "from konlpy.tag import Okt\n",
    "okt = Okt()\n",
    "X_train = []\n",
    "for sentence in train_data['발화문']:\n",
    "    temp_X = []\n",
    "    temp_X = okt.morphs(sentence, stem=True) # 토큰화\n",
    "    temp_X = [word for word in temp_X if not word in stopwords] # 불용어 제거\n",
    "    X_train.append(temp_X)\n",
    "\n",
    "X_test = []\n",
    "for sentence in test_data['발화문']:\n",
    "    temp_X = []\n",
    "    temp_X = okt.morphs(sentence, stem=True) # 토큰화\n",
    "    temp_X = [word for word in temp_X if not word in stopwords] # 불용어 제거\n",
    "    X_test.append(temp_X)"
   ]
  },
  {
   "cell_type": "code",
   "execution_count": 53,
   "id": "7f8cd1c6",
   "metadata": {},
   "outputs": [],
   "source": [
    "from keras.preprocessing.text import Tokenizer\n",
    "max_words = 35000\n",
    "tokenizer = Tokenizer(num_words = max_words)\n",
    "tokenizer.fit_on_texts(X_train)\n",
    "X_train = tokenizer.texts_to_sequences(X_train)\n",
    "X_test = tokenizer.texts_to_sequences(X_test)"
   ]
  },
  {
   "cell_type": "code",
   "execution_count": 55,
   "id": "528eccd4",
   "metadata": {},
   "outputs": [
    {
     "name": "stdout",
     "output_type": "stream",
     "text": [
      "문장의 최대 길이 :  44\n",
      "문장의 평균 길이 :  9.73663157894737\n"
     ]
    },
    {
     "data": {
      "image/png": "[encoded data removed]",
      "text/plain": [
       "<Figure size 432x288 with 1 Axes>"
      ]
     },
     "metadata": {
      "needs_background": "light"
     },
     "output_type": "display_data"
    }
   ],
   "source": [
    "print(\"문장의 최대 길이 : \", max(len(l) for l in X_train))\n",
    "print(\"문장의 평균 길이 : \", sum(map(len, X_train))/ len(X_train))\n",
    "plt.hist([len(s) for s in X_train], bins=50)\n",
    "plt.xlabel('length of Data')\n",
    "plt.ylabel('number of Data')\n",
    "plt.show()"
   ]
  },
  {
   "cell_type": "code",
   "execution_count": 58,
   "id": "b700ba20",
   "metadata": {},
   "outputs": [],
   "source": [
    "y_train = np.array(pd.get_dummies(train_data['감정'],drop_first=True))"
   ]
  },
  {
   "cell_type": "code",
   "execution_count": 59,
   "id": "99447193",
   "metadata": {},
   "outputs": [],
   "source": [
    "y_test = np.array(pd.get_dummies(test_data['감정'],drop_first=True))"
   ]
  },
  {
   "cell_type": "code",
   "execution_count": 65,
   "id": "d15b3ecb",
   "metadata": {},
   "outputs": [],
   "source": [
    "from keras.layers import Embedding, Dense, LSTM\n",
    "from keras.models import Sequential\n",
    "from keras.preprocessing.sequence import pad_sequences\n",
    "max_len = 40 # 전체 데이터의 길이를 40로 맞춘다\n",
    "\n",
    "X_train = pad_sequences(X_train, maxlen=max_len)\n",
    "X_test = pad_sequences(X_test, maxlen=max_len)"
   ]
  },
  {
   "cell_type": "code",
   "execution_count": 64,
   "id": "02c21307",
   "metadata": {},
   "outputs": [
    {
     "data": {
      "text/plain": [
       "array([[  0,   0,   0, ...,  91,  53,  12],\n",
       "       [  0,   0,   0, ...,  19, 935,   1],\n",
       "       [  0,   0,   0, ...,   1,  91,  12],\n",
       "       ...,\n",
       "       [  0,   0,   0, ..., 685,  19,   1],\n",
       "       [  0,   0,   0, ..., 183, 158,  11],\n",
       "       [  0,   0,   0, ...,  77,  57,   1]])"
      ]
     },
     "execution_count": 64,
     "metadata": {},
     "output_type": "execute_result"
    }
   ],
   "source": [
    "X_test"
   ]
  },
  {
   "cell_type": "code",
   "execution_count": 67,
   "id": "986121af",
   "metadata": {},
   "outputs": [
    {
     "data": {
      "text/plain": [
       "array([[False, False, False, False, False, False],\n",
       "       [False, False, False, False, False,  True],\n",
       "       [False, False, False, False, False, False],\n",
       "       ...,\n",
       "       [False,  True, False, False, False, False],\n",
       "       [False,  True, False, False, False, False],\n",
       "       [False, False, False, False, False, False]])"
      ]
     },
     "execution_count": 67,
     "metadata": {},
     "output_type": "execute_result"
    }
   ],
   "source": [
    "y_test"
   ]
  },
  {
   "cell_type": "code",
   "execution_count": 68,
   "id": "081c3f84",
   "metadata": {},
   "outputs": [
    {
     "name": "stdout",
     "output_type": "stream",
     "text": [
      "Epoch 1/10\n",
      "3420/3420 [==============================] - 79s 23ms/step - loss: 1.1896 - accuracy: 0.4888 - val_loss: 0.8200 - val_accuracy: 0.2263\n",
      "Epoch 2/10\n",
      "3420/3420 [==============================] - 104s 30ms/step - loss: 1.0197 - accuracy: 0.5713 - val_loss: 0.7713 - val_accuracy: 0.3608\n",
      "Epoch 3/10\n",
      "3420/3420 [==============================] - 104s 31ms/step - loss: 0.9555 - accuracy: 0.5815 - val_loss: 0.7517 - val_accuracy: 0.2845\n",
      "Epoch 4/10\n",
      "3420/3420 [==============================] - 103s 30ms/step - loss: 0.9391 - accuracy: 0.5809 - val_loss: 0.7445 - val_accuracy: 0.2805\n",
      "Epoch 5/10\n",
      "3420/3420 [==============================] - 104s 30ms/step - loss: 0.9461 - accuracy: 0.5792 - val_loss: 0.7407 - val_accuracy: 0.2347\n",
      "Epoch 6/10\n",
      "3420/3420 [==============================] - 104s 30ms/step - loss: 0.9563 - accuracy: 0.5770 - val_loss: 0.7948 - val_accuracy: 0.2197\n",
      "Epoch 7/10\n",
      "3420/3420 [==============================] - 103s 30ms/step - loss: 0.9628 - accuracy: 0.5751 - val_loss: 0.8177 - val_accuracy: 0.2479\n",
      "Epoch 8/10\n",
      "3420/3420 [==============================] - 106s 31ms/step - loss: 0.9706 - accuracy: 0.5732 - val_loss: 0.7781 - val_accuracy: 0.2979\n",
      "Epoch 9/10\n",
      "3420/3420 [==============================] - 102s 30ms/step - loss: 0.9811 - accuracy: 0.5699 - val_loss: 0.7715 - val_accuracy: 0.2266\n",
      "Epoch 10/10\n",
      "3420/3420 [==============================] - 103s 30ms/step - loss: 0.9884 - accuracy: 0.5678 - val_loss: 0.7412 - val_accuracy: 0.2308\n"
     ]
    }
   ],
   "source": [
    "model = Sequential()\n",
    "model.add(Embedding(max_words, 100))\n",
    "model.add(LSTM(128))\n",
    "model.add(Dense(6, activation='softmax'))\n",
    "\n",
    "model.compile(optimizer='rmsprop', loss='categorical_crossentropy', metrics=['accuracy'])\n",
    "history = model.fit(X_train, y_train, epochs=10, batch_size=10, validation_split=0.1)"
   ]
  },
  {
   "cell_type": "code",
   "execution_count": 69,
   "id": "8388d082",
   "metadata": {
    "scrolled": true
   },
   "outputs": [
    {
     "name": "stdout",
     "output_type": "stream",
     "text": [
      "126/126 [==============================] - 1s 6ms/step - loss: 0.8222 - accuracy: 0.2670\n"
     ]
    },
    {
     "data": {
      "text/plain": [
       "[0.8221970796585083, 0.26703134179115295]"
      ]
     },
     "execution_count": 69,
     "metadata": {},
     "output_type": "execute_result"
    }
   ],
   "source": [
    "model.evaluate(X_test, y_test)"
   ]
  },
  {
   "cell_type": "code",
   "execution_count": 70,
   "id": "e600b93d",
   "metadata": {},
   "outputs": [
    {
     "name": "stdout",
     "output_type": "stream",
     "text": [
      "126/126 [==============================] - 1s 6ms/step\n"
     ]
    }
   ],
   "source": [
    "predict = model.predict(X_test)"
   ]
  },
  {
   "cell_type": "code",
   "execution_count": 71,
   "id": "875d439a",
   "metadata": {},
   "outputs": [],
   "source": [
    "import numpy as np\n",
    "predict_labels = np.argmax(predict, axis=1)\n",
    "original_labels = np.argmax(y_test, axis=1)\n"
   ]
  },
  {
   "cell_type": "code",
   "execution_count": 74,
   "id": "842bdad6",
   "metadata": {},
   "outputs": [
    {
     "name": "stdout",
     "output_type": "stream",
     "text": [
      "발화문 :  그건 어떻게 알았어? /\t 원래 라벨 :  0 /\t예측한 라벨 :  1\n",
      "발화문 :  그러게. 저거 뉴스에서 보면 재밌겠다. /\t 원래 라벨 :  5 /\t예측한 라벨 :  1\n",
      "발화문 :  음. 기분이 너무 별로야. 어떻게 하지? /\t 원래 라벨 :  0 /\t예측한 라벨 :  1\n",
      "발화문 :  응. 니가 더 기분 나쁘고. /\t 원래 라벨 :  0 /\t예측한 라벨 :  1\n",
      "발화문 :  그럼 또라이한테 욕 박지 뭐하냐. /\t 원래 라벨 :  2 /\t예측한 라벨 :  0\n",
      "발화문 :  전화해서 환불 받으면 되려나? /\t 원래 라벨 :  3 /\t예측한 라벨 :  1\n",
      "발화문 :  많이 무기력해. /\t 원래 라벨 :  1 /\t예측한 라벨 :  1\n",
      "발화문 :  응. 정말 뿌듯하더라. /\t 원래 라벨 :  0 /\t예측한 라벨 :  1\n",
      "발화문 :  나 엘리베이터에 갇혔어. /\t 원래 라벨 :  4 /\t예측한 라벨 :  0\n",
      "발화문 :  궁금한 거 없었는데. /\t 원래 라벨 :  0 /\t예측한 라벨 :  1\n",
      "발화문 :  너는 말귀를 참 못알아먹는구나. /\t 원래 라벨 :  0 /\t예측한 라벨 :  1\n",
      "발화문 :  어. 지금 바로 해보려고. /\t 원래 라벨 :  0 /\t예측한 라벨 :  1\n",
      "발화문 :  내려간 다음에 회복이 되지 않아. /\t 원래 라벨 :  0 /\t예측한 라벨 :  1\n",
      "발화문 :  나 축하해줘. 기분 좋은 일이 있어. /\t 원래 라벨 :  0 /\t예측한 라벨 :  1\n",
      "발화문 :  나 오늘 짭새가 몰려있길래 구경갔다왔어. /\t 원래 라벨 :  1 /\t예측한 라벨 :  1\n",
      "발화문 :  빠르게 치워보도록 할게. 고마워. /\t 원래 라벨 :  0 /\t예측한 라벨 :  1\n",
      "발화문 :  좋은 생각인 것 같아. /\t 원래 라벨 :  0 /\t예측한 라벨 :  1\n",
      "발화문 :  잘 모르겠는데 안에서 뭔가 썩은 것 같아. /\t 원래 라벨 :  0 /\t예측한 라벨 :  1\n",
      "발화문 :  쓰레기통에서 존나 역겨운 냄새가 나고있어. /\t 원래 라벨 :  0 /\t예측한 라벨 :  0\n",
      "발화문 :  고마워. 도움이 된다. /\t 원래 라벨 :  0 /\t예측한 라벨 :  1\n",
      "발화문 :  응. 좋은 게 있으면 그럼 다음에 구매할 때 알려줘. /\t 원래 라벨 :  0 /\t예측한 라벨 :  1\n",
      "발화문 :  항공주랑 석유화학주 들어갔는데, 답이 없어. /\t 원래 라벨 :  1 /\t예측한 라벨 :  1\n",
      "발화문 :  곰팡이 제거제 써 봤는데 생각보다 별로였어. /\t 원래 라벨 :  0 /\t예측한 라벨 :  1\n",
      "발화문 :  친구가 추천을 해줘서 들어갔는데, 영 안되네. /\t 원래 라벨 :  0 /\t예측한 라벨 :  1\n",
      "발화문 :  마라톤에서 기록 갱신을 했어. /\t 원래 라벨 :  0 /\t예측한 라벨 :  1\n",
      "발화문 :  나 요즘 주식을 시작했는데 망했어. /\t 원래 라벨 :  0 /\t예측한 라벨 :  1\n",
      "발화문 :  나 저기 짭새들이 몰려있길래 가서 구경하고 왔어. /\t 원래 라벨 :  0 /\t예측한 라벨 :  1\n",
      "발화문 :  화장실 곰팡이가 도대체 사라지지를 않아. /\t 원래 라벨 :  0 /\t예측한 라벨 :  1\n",
      "발화문 :  아니. 이번에는 혼자 뛰었어. /\t 원래 라벨 :  0 /\t예측한 라벨 :  1\n",
      "발화문 :  그 정도는 아니고 그래도 잘 한것  같아. /\t 원래 라벨 :  5 /\t예측한 라벨 :  1\n"
     ]
    }
   ],
   "source": [
    "for i in range(30):\n",
    "    print(\"발화문 : \", test_data['발화문'].iloc[i], \"/\\t 원래 라벨 : \", original_labels[i], \"/\\t예측한 라벨 : \", predict_labels[i])"
   ]
  },
  {
   "cell_type": "code",
   "execution_count": 80,
   "id": "b0356628",
   "metadata": {},
   "outputs": [
    {
     "data": {
      "text/plain": [
       "array([1, 0, 5], dtype=int64)"
      ]
     },
     "execution_count": 80,
     "metadata": {},
     "output_type": "execute_result"
    }
   ],
   "source": [
    "pd.DataFrame(predict_labels)[0].unique()"
   ]
  }
 ],
 "metadata": {
  "kernelspec": {
   "display_name": "Python 3 (ipykernel)",
   "language": "python",
   "name": "python3"
  },
  "language_info": {
   "codemirror_mode": {
    "name": "ipython",
    "version": 3
   },
   "file_extension": ".py",
   "mimetype": "text/x-python",
   "name": "python",
   "nbconvert_exporter": "python",
   "pygments_lexer": "ipython3",
   "version": "3.9.10"
  }
 },
 "nbformat": 4,
 "nbformat_minor": 5
}
